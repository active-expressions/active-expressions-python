{
 "cells": [
  {
   "cell_type": "code",
   "execution_count": 16,
   "metadata": {},
   "outputs": [
    {
     "name": "stdout",
     "output_type": "stream",
     "text": [
      "total changed to 47\n",
      "total changed to 48\n",
      "total changed to 49\n",
      "total changed to 50\n",
      "total changed to 7\n",
      "global changed to 44\n",
      "total changed to 51\n"
     ]
    }
   ],
   "source": [
    "class AExpr:\n",
    "    \n",
    "    discovery = False\n",
    "    \n",
    "    def __init__(self, func):\n",
    "        AExpr.discovery = True\n",
    "        for cell in func.__closure__ or ():\n",
    "            self.register(cell.cell_contents.__class__)\n",
    "        self.register_global()\n",
    "        func()\n",
    "        self.func = func\n",
    "        self.handlers = []\n",
    "        AExpr.discovery = False\n",
    "        \n",
    "    def register_global(self):\n",
    "        if not '__aexprs__' in globals():\n",
    "            globals()['__aexprs__'] = set()\n",
    "        for name, value in globals().items():\n",
    "            if not name.startswith('_'):\n",
    "                self.register(value.__class__)\n",
    "\n",
    "    def register(self, cls):\n",
    "        if not hasattr(cls, '__aexprs__'):\n",
    "            \n",
    "            try:\n",
    "                cls.__aexprs__ = {self,}\n",
    "            except (TypeError, AttributeError):\n",
    "                # can't manipulate class\n",
    "                return\n",
    "\n",
    "            old_setattr = cls.__setattr__\n",
    "            def new_setattr(this, name, value):\n",
    "                old_setattr(this, name, value)\n",
    "                for ae in cls.__aexprs__:\n",
    "                    ae.notify()\n",
    "            \n",
    "            # TODO: check __builtins__\n",
    "            old_getattr = cls.__getattribute__\n",
    "            def new_getattr(this, name):\n",
    "                value = old_getattr(this, name)\n",
    "                if AExpr.discovery and not name.startswith('_') and hasattr(value, '__class__'):\n",
    "                    self.register(value.__class__)\n",
    "                return value\n",
    "                \n",
    "            cls.__setattr__ = new_setattr\n",
    "            cls.__getattribute__ = new_getattr\n",
    "\n",
    "        else:\n",
    "            cls.__aexprs__.add(self)\n",
    "            \n",
    "    def on_change(self, handler):\n",
    "        self.handlers.append(handler)\n",
    "    \n",
    "    def notify(self):\n",
    "        if not AExpr.discovery:\n",
    "            # TODO: Activate discovery mode again in case something changes control flow\n",
    "            value = self.func()\n",
    "            for h in self.handlers:\n",
    "                h(value)\n",
    "\n",
    "       \n",
    "class Foo:\n",
    "    \n",
    "    def __init__(self, a):\n",
    "        self.a = Bar(a)\n",
    "        \n",
    "    def fun(self):\n",
    "        return self.a.a + 1\n",
    "\n",
    "    \n",
    "class Bar:\n",
    "    \n",
    "    def __init__(self, a):\n",
    "        self.a = a\n",
    "        \n",
    "        \n",
    "class Glob:\n",
    "\n",
    "    def __init__(self, a):\n",
    "        self.a = a\n",
    "\n",
    "gl = Glob(42)\n",
    "        \n",
    "def test():\n",
    "\n",
    "    f = Foo(1)\n",
    "    g = Foo(1)\n",
    "\n",
    "    \n",
    "    @AExpr\n",
    "    def total():\n",
    "        return f.fun() + g.fun() + gl.a\n",
    "    \n",
    "    @total.on_change\n",
    "    def total_changed(to_value):\n",
    "        print('total changed to', to_value)\n",
    "        \n",
    "    f.a.a = 2\n",
    "    g.a.a = 2\n",
    "    f.a.a = 3\n",
    "    g.a.a = 3\n",
    "    \n",
    "    gl.a = -1\n",
    "    \n",
    "test()\n",
    "\n",
    "@AExpr\n",
    "def global_change():\n",
    "    return gl.a + 1\n",
    "\n",
    "@global_change.on_change\n",
    "def global_changed(to_value):\n",
    "    print('global changed to', to_value)\n",
    "    \n",
    "gl.a = 43"
   ]
  },
  {
   "cell_type": "markdown",
   "metadata": {},
   "source": [
    "# prelimiary experiments"
   ]
  },
  {
   "cell_type": "code",
   "execution_count": 69,
   "metadata": {},
   "outputs": [],
   "source": [
    "class Bar:\n",
    "    \n",
    "    def __init__(self):\n",
    "        self.x = 42\n",
    "        \n",
    "    def foo(self):\n",
    "        return self.x"
   ]
  },
  {
   "cell_type": "code",
   "execution_count": 70,
   "metadata": {},
   "outputs": [],
   "source": [
    "b = Bar()"
   ]
  },
  {
   "cell_type": "code",
   "execution_count": 71,
   "metadata": {},
   "outputs": [],
   "source": [
    "old_setattr = Bar.__setattr__\n",
    "def setattr_hook(self, name, value):\n",
    "    print('setting', name, 'to', value)\n",
    "    old_setattr(self, name, value)\n",
    "\n",
    "Bar.__setattr__ = setattr_hook"
   ]
  },
  {
   "cell_type": "code",
   "execution_count": 72,
   "metadata": {},
   "outputs": [
    {
     "name": "stdout",
     "output_type": "stream",
     "text": [
      "setting x to 43\n"
     ]
    }
   ],
   "source": [
    "b.x = 43"
   ]
  },
  {
   "cell_type": "code",
   "execution_count": 73,
   "metadata": {},
   "outputs": [
    {
     "data": {
      "text/plain": [
       "43"
      ]
     },
     "execution_count": 73,
     "metadata": {},
     "output_type": "execute_result"
    }
   ],
   "source": [
    "b.foo()"
   ]
  },
  {
   "cell_type": "code",
   "execution_count": null,
   "metadata": {},
   "outputs": [],
   "source": []
  }
 ],
 "metadata": {
  "kernelspec": {
   "display_name": "Python 3",
   "language": "python",
   "name": "python3"
  },
  "language_info": {
   "codemirror_mode": {
    "name": "ipython",
    "version": 3
   },
   "file_extension": ".py",
   "mimetype": "text/x-python",
   "name": "python",
   "nbconvert_exporter": "python",
   "pygments_lexer": "ipython3",
   "version": "3.7.0b4"
  }
 },
 "nbformat": 4,
 "nbformat_minor": 2
}
